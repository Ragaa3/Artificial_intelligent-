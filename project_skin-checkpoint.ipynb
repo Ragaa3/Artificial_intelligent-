{
 "cells": [
  {
   "cell_type": "code",
   "execution_count": 69,
   "id": "04a54be3",
   "metadata": {},
   "outputs": [],
   "source": [
    "import pandas as pd\n",
    "import numpy as np\n",
    "import matplotlib.pyplot as plt\n",
    "%matplotlib inline\n",
    "import seaborn as sns\n",
    "sns.set(style=\"whitegrid\")\n",
    "import os\n",
    "import glob as gb\n",
    "import cv2\n",
    "import tensorflow as tf\n",
    "import keras"
   ]
  },
  {
   "cell_type": "code",
   "execution_count": 70,
   "id": "3385e5f0",
   "metadata": {},
   "outputs": [
    {
     "name": "stdout",
     "output_type": "stream",
     "text": [
      "['archive', 'ISIC_2019_Training_GroundTruth.csv', 'ISIC_2019_Training_Metadata.csv']\n",
      "-----------------------------------------\n"
     ]
    }
   ],
   "source": [
    "# open file \n",
    "import os\n",
    "print(os.listdir(\"E:\\\\skin_project\")) # open file\n",
    "print(\"-----------------------------------------\")"
   ]
  },
  {
   "cell_type": "code",
   "execution_count": 71,
   "id": "b3fe02ab",
   "metadata": {},
   "outputs": [],
   "source": [
    "### for Kaggle\n",
    "trainpath = 'E:\\\\skin_project\\\\archive\\\\Skin cancer ISIC The International Skin Imaging Collaboration\\\\Train'\n",
    "testpath = 'E:\\\\skin_project\\\\archive\\\\Skin cancer ISIC The International Skin Imaging Collaboration\\\\Test'\n",
    "data1path = 'E:\\\\skin_project\\ISIC_2019_Training_GroundTruth.csv'\n",
    "data2path = 'E:\\\\skin_project\\ISIC_2019_Training_Metadata.csv'\n",
    "### for Jupyter\n",
    "# trainpath = ''\n",
    "# testpath = ''\n",
    "# predpath = ''"
   ]
  },
  {
   "cell_type": "code",
   "execution_count": 72,
   "id": "5bf4fc26",
   "metadata": {},
   "outputs": [
    {
     "name": "stdout",
     "output_type": "stream",
     "text": [
      "                       image  age_approx anatom_site_general lesion_id     sex\n",
      "0               ISIC_0000000        55.0      anterior torso       NaN  female\n",
      "1               ISIC_0000001        30.0      anterior torso       NaN  female\n",
      "2               ISIC_0000002        60.0     upper extremity       NaN  female\n",
      "3               ISIC_0000003        30.0     upper extremity       NaN    male\n",
      "4               ISIC_0000004        80.0     posterior torso       NaN    male\n",
      "5               ISIC_0000006        25.0     posterior torso       NaN  female\n",
      "6               ISIC_0000007        25.0     posterior torso       NaN  female\n",
      "7               ISIC_0000008        30.0      anterior torso       NaN  female\n",
      "8               ISIC_0000009        30.0      anterior torso       NaN  female\n",
      "9               ISIC_0000010        35.0     posterior torso       NaN  female\n",
      "10              ISIC_0000011        35.0     lower extremity       NaN  female\n",
      "11              ISIC_0000012        30.0     posterior torso       NaN    male\n",
      "12              ISIC_0000013        30.0     posterior torso       NaN  female\n",
      "13              ISIC_0000014        35.0     posterior torso       NaN    male\n",
      "14              ISIC_0000015        35.0     posterior torso       NaN    male\n",
      "15              ISIC_0000016        55.0      anterior torso       NaN  female\n",
      "16  ISIC_0000017_downsampled        50.0     posterior torso       NaN  female\n",
      "17  ISIC_0000018_downsampled        30.0     posterior torso       NaN    male\n",
      "18  ISIC_0000019_downsampled        30.0     posterior torso       NaN  female\n",
      "19  ISIC_0000020_downsampled        25.0      anterior torso       NaN  female\n",
      "-----------------------------------------\n"
     ]
    }
   ],
   "source": [
    "# download data2 and analysis\n",
    "data2 = pd.read_csv(data2path, header = 0)\n",
    "print(data2.head(20)) # first of 20 column of data\n",
    "print(\"-----------------------------------------\")"
   ]
  },
  {
   "cell_type": "code",
   "execution_count": 73,
   "id": "c1d31afa",
   "metadata": {},
   "outputs": [
    {
     "name": "stdout",
     "output_type": "stream",
     "text": [
      "              image  age_approx anatom_site_general    lesion_id     sex\n",
      "25311  ISIC_0073224        55.0           head/neck  BCN_0001014  female\n",
      "25312  ISIC_0073225        55.0     lower extremity  BCN_0000286  female\n",
      "25313  ISIC_0073227        85.0           head/neck  BCN_0004289    male\n",
      "25314  ISIC_0073228        70.0      anterior torso  BCN_0003360  female\n",
      "25315  ISIC_0073229        55.0      anterior torso  BCN_0000063    male\n",
      "25316  ISIC_0073231        55.0      anterior torso  BCN_0005418  female\n",
      "25317  ISIC_0073232        45.0     lower extremity  BCN_0000185    male\n",
      "25318  ISIC_0073235        45.0      anterior torso  BCN_0001429  female\n",
      "25319  ISIC_0073237        45.0     lower extremity  BCN_0001536  female\n",
      "25320  ISIC_0073238        45.0     upper extremity  BCN_0005240  female\n",
      "25321  ISIC_0073240        45.0     lower extremity  BCN_0002417  female\n",
      "25322  ISIC_0073241        60.0         palms/soles  BCN_0004405    male\n",
      "25323  ISIC_0073244        15.0     lower extremity  BCN_0003524    male\n",
      "25324  ISIC_0073245        45.0     upper extremity  BCN_0003359  female\n",
      "25325  ISIC_0073246        80.0      anterior torso  BCN_0005265    male\n",
      "25326  ISIC_0073247        85.0           head/neck  BCN_0003925  female\n",
      "25327  ISIC_0073248        65.0      anterior torso  BCN_0001819    male\n",
      "25328  ISIC_0073249        70.0     lower extremity  BCN_0001085    male\n",
      "25329  ISIC_0073251        55.0         palms/soles  BCN_0002083  female\n",
      "25330  ISIC_0073254        50.0     upper extremity  BCN_0001079    male\n",
      "-----------------------------------------\n"
     ]
    }
   ],
   "source": [
    "print(data2.tail(20)) # last of 20 culomn of data\n",
    "print(\"-----------------------------------------\")"
   ]
  },
  {
   "cell_type": "code",
   "execution_count": 74,
   "id": "9cfa6bba",
   "metadata": {},
   "outputs": [
    {
     "name": "stdout",
     "output_type": "stream",
     "text": [
      "         age_approx\n",
      "count  24894.000000\n",
      "mean      54.028481\n",
      "std       18.130971\n",
      "min        0.000000\n",
      "25%       40.000000\n",
      "50%       55.000000\n",
      "75%       70.000000\n",
      "max       85.000000\n",
      "-----------------------------------------\n"
     ]
    }
   ],
   "source": [
    "print(data2.describe()) # information of number\n",
    "print(\"-----------------------------------------\")"
   ]
  },
  {
   "cell_type": "code",
   "execution_count": 75,
   "id": "41f358f6",
   "metadata": {},
   "outputs": [
    {
     "name": "stdout",
     "output_type": "stream",
     "text": [
      "<class 'pandas.core.frame.DataFrame'>\n",
      "RangeIndex: 25331 entries, 0 to 25330\n",
      "Data columns (total 5 columns):\n",
      " #   Column               Non-Null Count  Dtype  \n",
      "---  ------               --------------  -----  \n",
      " 0   image                25331 non-null  object \n",
      " 1   age_approx           24894 non-null  float64\n",
      " 2   anatom_site_general  22700 non-null  object \n",
      " 3   lesion_id            23247 non-null  object \n",
      " 4   sex                  24947 non-null  object \n",
      "dtypes: float64(1), object(4)\n",
      "memory usage: 989.6+ KB\n",
      "None\n",
      "-----------------------------------------\n"
     ]
    }
   ],
   "source": [
    "print(data2.info()) # information of data\n",
    "print(\"-----------------------------------------\")"
   ]
  },
  {
   "cell_type": "code",
   "execution_count": 76,
   "id": "11b2a95b",
   "metadata": {},
   "outputs": [
    {
     "name": "stdout",
     "output_type": "stream",
     "text": [
      "            age_approx\n",
      "age_approx         1.0\n",
      "-----------------------------------------\n"
     ]
    }
   ],
   "source": [
    "print(data2.corr())\n",
    "print(\"-----------------------------------------\")"
   ]
  },
  {
   "cell_type": "code",
   "execution_count": 77,
   "id": "795b0145",
   "metadata": {},
   "outputs": [
    {
     "data": {
      "text/plain": [
       "<AxesSubplot:>"
      ]
     },
     "execution_count": 77,
     "metadata": {},
     "output_type": "execute_result"
    },
    {
     "data": {
      "image/png": "[encoded data removed]",
      "text/plain": [
       "<Figure size 432x288 with 2 Axes>"
      ]
     },
     "metadata": {},
     "output_type": "display_data"
    }
   ],
   "source": [
    "sns.heatmap(data2.corr()) # plot corraletion of dataframe"
   ]
  },
  {
   "cell_type": "code",
   "execution_count": 78,
   "id": "7404222d",
   "metadata": {},
   "outputs": [
    {
     "name": "stdout",
     "output_type": "stream",
     "text": [
      "                       image  MEL   NV  BCC   AK  BKL   DF  VASC  SCC  UNK\n",
      "0               ISIC_0000000  0.0  1.0  0.0  0.0  0.0  0.0   0.0  0.0  0.0\n",
      "1               ISIC_0000001  0.0  1.0  0.0  0.0  0.0  0.0   0.0  0.0  0.0\n",
      "2               ISIC_0000002  1.0  0.0  0.0  0.0  0.0  0.0   0.0  0.0  0.0\n",
      "3               ISIC_0000003  0.0  1.0  0.0  0.0  0.0  0.0   0.0  0.0  0.0\n",
      "4               ISIC_0000004  1.0  0.0  0.0  0.0  0.0  0.0   0.0  0.0  0.0\n",
      "5               ISIC_0000006  0.0  1.0  0.0  0.0  0.0  0.0   0.0  0.0  0.0\n",
      "6               ISIC_0000007  0.0  1.0  0.0  0.0  0.0  0.0   0.0  0.0  0.0\n",
      "7               ISIC_0000008  0.0  1.0  0.0  0.0  0.0  0.0   0.0  0.0  0.0\n",
      "8               ISIC_0000009  0.0  1.0  0.0  0.0  0.0  0.0   0.0  0.0  0.0\n",
      "9               ISIC_0000010  0.0  1.0  0.0  0.0  0.0  0.0   0.0  0.0  0.0\n",
      "10              ISIC_0000011  0.0  1.0  0.0  0.0  0.0  0.0   0.0  0.0  0.0\n",
      "11              ISIC_0000012  0.0  1.0  0.0  0.0  0.0  0.0   0.0  0.0  0.0\n",
      "12              ISIC_0000013  1.0  0.0  0.0  0.0  0.0  0.0   0.0  0.0  0.0\n",
      "13              ISIC_0000014  0.0  1.0  0.0  0.0  0.0  0.0   0.0  0.0  0.0\n",
      "14              ISIC_0000015  0.0  1.0  0.0  0.0  0.0  0.0   0.0  0.0  0.0\n",
      "15              ISIC_0000016  0.0  1.0  0.0  0.0  0.0  0.0   0.0  0.0  0.0\n",
      "16  ISIC_0000017_downsampled  0.0  1.0  0.0  0.0  0.0  0.0   0.0  0.0  0.0\n",
      "17  ISIC_0000018_downsampled  0.0  1.0  0.0  0.0  0.0  0.0   0.0  0.0  0.0\n",
      "18  ISIC_0000019_downsampled  0.0  1.0  0.0  0.0  0.0  0.0   0.0  0.0  0.0\n",
      "19  ISIC_0000020_downsampled  0.0  1.0  0.0  0.0  0.0  0.0   0.0  0.0  0.0\n",
      "-----------------------------------------\n"
     ]
    }
   ],
   "source": [
    "# download data2 and analysis\n",
    "data2 = pd.read_csv(data1path, header = 0)\n",
    "print(data2.head(20)) # first of 20 column of data\n",
    "print(\"-----------------------------------------\")"
   ]
  },
  {
   "cell_type": "code",
   "execution_count": 79,
   "id": "6531c6a4",
   "metadata": {},
   "outputs": [
    {
     "name": "stdout",
     "output_type": "stream",
     "text": [
      "              image  MEL   NV  BCC   AK  BKL   DF  VASC  SCC  UNK\n",
      "25311  ISIC_0073224  0.0  0.0  0.0  1.0  0.0  0.0   0.0  0.0  0.0\n",
      "25312  ISIC_0073225  0.0  0.0  1.0  0.0  0.0  0.0   0.0  0.0  0.0\n",
      "25313  ISIC_0073227  1.0  0.0  0.0  0.0  0.0  0.0   0.0  0.0  0.0\n",
      "25314  ISIC_0073228  0.0  0.0  0.0  0.0  1.0  0.0   0.0  0.0  0.0\n",
      "25315  ISIC_0073229  0.0  0.0  1.0  0.0  0.0  0.0   0.0  0.0  0.0\n",
      "25316  ISIC_0073231  1.0  0.0  0.0  0.0  0.0  0.0   0.0  0.0  0.0\n",
      "25317  ISIC_0073232  0.0  1.0  0.0  0.0  0.0  0.0   0.0  0.0  0.0\n",
      "25318  ISIC_0073235  0.0  0.0  0.0  0.0  1.0  0.0   0.0  0.0  0.0\n",
      "25319  ISIC_0073237  1.0  0.0  0.0  0.0  0.0  0.0   0.0  0.0  0.0\n",
      "25320  ISIC_0073238  1.0  0.0  0.0  0.0  0.0  0.0   0.0  0.0  0.0\n",
      "25321  ISIC_0073240  0.0  1.0  0.0  0.0  0.0  0.0   0.0  0.0  0.0\n",
      "25322  ISIC_0073241  1.0  0.0  0.0  0.0  0.0  0.0   0.0  0.0  0.0\n",
      "25323  ISIC_0073244  0.0  1.0  0.0  0.0  0.0  0.0   0.0  0.0  0.0\n",
      "25324  ISIC_0073245  0.0  1.0  0.0  0.0  0.0  0.0   0.0  0.0  0.0\n",
      "25325  ISIC_0073246  0.0  0.0  1.0  0.0  0.0  0.0   0.0  0.0  0.0\n",
      "25326  ISIC_0073247  0.0  0.0  1.0  0.0  0.0  0.0   0.0  0.0  0.0\n",
      "25327  ISIC_0073248  0.0  0.0  0.0  0.0  1.0  0.0   0.0  0.0  0.0\n",
      "25328  ISIC_0073249  1.0  0.0  0.0  0.0  0.0  0.0   0.0  0.0  0.0\n",
      "25329  ISIC_0073251  0.0  1.0  0.0  0.0  0.0  0.0   0.0  0.0  0.0\n",
      "25330  ISIC_0073254  0.0  0.0  0.0  0.0  1.0  0.0   0.0  0.0  0.0\n",
      "-----------------------------------------\n"
     ]
    }
   ],
   "source": [
    "print(data1.tail(20)) # last of 20 culomn of data\n",
    "print(\"-----------------------------------------\")"
   ]
  },
  {
   "cell_type": "code",
   "execution_count": 80,
   "id": "3413913f",
   "metadata": {},
   "outputs": [
    {
     "name": "stdout",
     "output_type": "stream",
     "text": [
      "<class 'pandas.core.frame.DataFrame'>\n",
      "RangeIndex: 25331 entries, 0 to 25330\n",
      "Data columns (total 10 columns):\n",
      " #   Column  Non-Null Count  Dtype  \n",
      "---  ------  --------------  -----  \n",
      " 0   image   25331 non-null  object \n",
      " 1   MEL     25331 non-null  float64\n",
      " 2   NV      25331 non-null  float64\n",
      " 3   BCC     25331 non-null  float64\n",
      " 4   AK      25331 non-null  float64\n",
      " 5   BKL     25331 non-null  float64\n",
      " 6   DF      25331 non-null  float64\n",
      " 7   VASC    25331 non-null  float64\n",
      " 8   SCC     25331 non-null  float64\n",
      " 9   UNK     25331 non-null  float64\n",
      "dtypes: float64(9), object(1)\n",
      "memory usage: 1.9+ MB\n",
      "None\n",
      "-----------------------------------------\n"
     ]
    }
   ],
   "source": [
    "print(data1.info()) # last of 20 culomn of data\n",
    "print(\"-----------------------------------------\")"
   ]
  },
  {
   "cell_type": "code",
   "execution_count": 81,
   "id": "16b77dd5",
   "metadata": {},
   "outputs": [
    {
     "name": "stdout",
     "output_type": "stream",
     "text": [
      "                MEL            NV           BCC            AK           BKL  \\\n",
      "count  25331.000000  25331.000000  25331.000000  25331.000000  25331.000000   \n",
      "mean       0.178516      0.508270      0.131183      0.034227      0.103588   \n",
      "std        0.382954      0.499941      0.337607      0.181815      0.304732   \n",
      "min        0.000000      0.000000      0.000000      0.000000      0.000000   \n",
      "25%        0.000000      0.000000      0.000000      0.000000      0.000000   \n",
      "50%        0.000000      1.000000      0.000000      0.000000      0.000000   \n",
      "75%        0.000000      1.000000      0.000000      0.000000      0.000000   \n",
      "max        1.000000      1.000000      1.000000      1.000000      1.000000   \n",
      "\n",
      "                 DF          VASC           SCC      UNK  \n",
      "count  25331.000000  25331.000000  25331.000000  25331.0  \n",
      "mean       0.009435      0.009988      0.024792      0.0  \n",
      "std        0.096677      0.099440      0.155493      0.0  \n",
      "min        0.000000      0.000000      0.000000      0.0  \n",
      "25%        0.000000      0.000000      0.000000      0.0  \n",
      "50%        0.000000      0.000000      0.000000      0.0  \n",
      "75%        0.000000      0.000000      0.000000      0.0  \n",
      "max        1.000000      1.000000      1.000000      0.0  \n",
      "-----------------------------------------\n"
     ]
    }
   ],
   "source": [
    "print(data1.describe()) # last of 20 culomn of data\n",
    "print(\"-----------------------------------------\")"
   ]
  },
  {
   "cell_type": "code",
   "execution_count": 82,
   "id": "f2645cbd",
   "metadata": {},
   "outputs": [
    {
     "name": "stdout",
     "output_type": "stream",
     "text": [
      "           MEL        NV       BCC        AK       BKL        DF      VASC  \\\n",
      "MEL   1.000000 -0.473941 -0.181140 -0.087758 -0.158468 -0.045496 -0.046822   \n",
      "NV   -0.473941  1.000000 -0.395056 -0.191395 -0.345610 -0.099224 -0.102117   \n",
      "BCC  -0.181140 -0.395056  1.000000 -0.073151 -0.132092 -0.037923 -0.039029   \n",
      "AK   -0.087758 -0.191395 -0.073151  1.000000 -0.063995 -0.018373 -0.018909   \n",
      "BKL  -0.158468 -0.345610 -0.132092 -0.063995  1.000000 -0.033177 -0.034144   \n",
      "DF   -0.045496 -0.099224 -0.037923 -0.018373 -0.033177  1.000000 -0.009803   \n",
      "VASC -0.046822 -0.102117 -0.039029 -0.018909 -0.034144 -0.009803  1.000000   \n",
      "SCC  -0.074327 -0.162102 -0.061955 -0.030016 -0.054201 -0.015561 -0.016015   \n",
      "UNK        NaN       NaN       NaN       NaN       NaN       NaN       NaN   \n",
      "\n",
      "           SCC  UNK  \n",
      "MEL  -0.074327  NaN  \n",
      "NV   -0.162102  NaN  \n",
      "BCC  -0.061955  NaN  \n",
      "AK   -0.030016  NaN  \n",
      "BKL  -0.054201  NaN  \n",
      "DF   -0.015561  NaN  \n",
      "VASC -0.016015  NaN  \n",
      "SCC   1.000000  NaN  \n",
      "UNK        NaN  NaN  \n",
      "-----------------------------------------\n"
     ]
    }
   ],
   "source": [
    "print(data1.corr())\n",
    "print(\"-----------------------------------------\")"
   ]
  },
  {
   "cell_type": "code",
   "execution_count": 83,
   "id": "ba445015",
   "metadata": {},
   "outputs": [
    {
     "data": {
      "text/plain": [
       "<AxesSubplot:>"
      ]
     },
     "execution_count": 83,
     "metadata": {},
     "output_type": "execute_result"
    },
    {
     "data": {
      "image/png": "[encoded data removed]",
      "text/plain": [
       "<Figure size 432x288 with 2 Axes>"
      ]
     },
     "metadata": {},
     "output_type": "display_data"
    }
   ],
   "source": [
    "sns.heatmap(data2.corr()) # plot corraletion of dataframe"
   ]
  },
  {
   "cell_type": "code",
   "execution_count": 84,
   "id": "55aa0268",
   "metadata": {},
   "outputs": [
    {
     "name": "stdout",
     "output_type": "stream",
     "text": [
      "For training data , found 114 in folder actinic keratosis\n",
      "For training data , found 376 in folder basal cell carcinoma\n",
      "For training data , found 95 in folder dermatofibroma\n",
      "For training data , found 438 in folder melanoma\n",
      "For training data , found 357 in folder nevus\n",
      "For training data , found 462 in folder pigmented benign keratosis\n",
      "For training data , found 77 in folder seborrheic keratosis\n",
      "For training data , found 181 in folder squamous cell carcinoma\n",
      "For training data , found 139 in folder vascular lesion\n"
     ]
    },
    {
     "data": {
      "text/html": [
       "<div>\n",
       "<style scoped>\n",
       "    .dataframe tbody tr th:only-of-type {\n",
       "        vertical-align: middle;\n",
       "    }\n",
       "\n",
       "    .dataframe tbody tr th {\n",
       "        vertical-align: top;\n",
       "    }\n",
       "\n",
       "    .dataframe thead th {\n",
       "        text-align: right;\n",
       "    }\n",
       "</style>\n",
       "<table border=\"1\" class=\"dataframe\">\n",
       "  <thead>\n",
       "    <tr style=\"text-align: right;\">\n",
       "      <th></th>\n",
       "      <th>disease</th>\n",
       "      <th>count_images</th>\n",
       "    </tr>\n",
       "  </thead>\n",
       "  <tbody>\n",
       "    <tr>\n",
       "      <th>0</th>\n",
       "      <td>actinic keratosis</td>\n",
       "      <td>114</td>\n",
       "    </tr>\n",
       "    <tr>\n",
       "      <th>1</th>\n",
       "      <td>basal cell carcinoma</td>\n",
       "      <td>376</td>\n",
       "    </tr>\n",
       "    <tr>\n",
       "      <th>2</th>\n",
       "      <td>dermatofibroma</td>\n",
       "      <td>95</td>\n",
       "    </tr>\n",
       "    <tr>\n",
       "      <th>3</th>\n",
       "      <td>melanoma</td>\n",
       "      <td>438</td>\n",
       "    </tr>\n",
       "    <tr>\n",
       "      <th>4</th>\n",
       "      <td>nevus</td>\n",
       "      <td>357</td>\n",
       "    </tr>\n",
       "    <tr>\n",
       "      <th>5</th>\n",
       "      <td>pigmented benign keratosis</td>\n",
       "      <td>462</td>\n",
       "    </tr>\n",
       "    <tr>\n",
       "      <th>6</th>\n",
       "      <td>seborrheic keratosis</td>\n",
       "      <td>77</td>\n",
       "    </tr>\n",
       "    <tr>\n",
       "      <th>7</th>\n",
       "      <td>squamous cell carcinoma</td>\n",
       "      <td>181</td>\n",
       "    </tr>\n",
       "    <tr>\n",
       "      <th>8</th>\n",
       "      <td>vascular lesion</td>\n",
       "      <td>139</td>\n",
       "    </tr>\n",
       "  </tbody>\n",
       "</table>\n",
       "</div>"
      ],
      "text/plain": [
       "                      disease  count_images\n",
       "0           actinic keratosis           114\n",
       "1        basal cell carcinoma           376\n",
       "2              dermatofibroma            95\n",
       "3                    melanoma           438\n",
       "4                       nevus           357\n",
       "5  pigmented benign keratosis           462\n",
       "6        seborrheic keratosis            77\n",
       "7     squamous cell carcinoma           181\n",
       "8             vascular lesion           139"
      ]
     },
     "execution_count": 84,
     "metadata": {},
     "output_type": "execute_result"
    }
   ],
   "source": [
    "results2 = []\n",
    "for folder in  os.listdir(trainpath + '\\\\') : \n",
    "    dies_name_count = {}\n",
    "    files = gb.glob(pathname= str( trainpath +'\\\\' + folder + '/*.jpg'))\n",
    "    dies_name_count['disease']=folder\n",
    "    dies_name_count['count_images']=len(files)\n",
    "    results2.append(dies_name_count)\n",
    "    print(f'For training data , found {len(files)} in folder {folder}')\n",
    "pd.DataFrame(results2)"
   ]
  },
  {
   "cell_type": "code",
   "execution_count": 85,
   "id": "5d64d0fa",
   "metadata": {},
   "outputs": [
    {
     "name": "stdout",
     "output_type": "stream",
     "text": [
      "For training data , found 16 in folder actinic keratosis\n",
      "For training data , found 16 in folder basal cell carcinoma\n",
      "For training data , found 16 in folder dermatofibroma\n",
      "For training data , found 16 in folder melanoma\n",
      "For training data , found 16 in folder nevus\n",
      "For training data , found 16 in folder pigmented benign keratosis\n",
      "For training data , found 3 in folder seborrheic keratosis\n",
      "For training data , found 16 in folder squamous cell carcinoma\n",
      "For training data , found 3 in folder vascular lesion\n"
     ]
    },
    {
     "data": {
      "text/html": [
       "<div>\n",
       "<style scoped>\n",
       "    .dataframe tbody tr th:only-of-type {\n",
       "        vertical-align: middle;\n",
       "    }\n",
       "\n",
       "    .dataframe tbody tr th {\n",
       "        vertical-align: top;\n",
       "    }\n",
       "\n",
       "    .dataframe thead th {\n",
       "        text-align: right;\n",
       "    }\n",
       "</style>\n",
       "<table border=\"1\" class=\"dataframe\">\n",
       "  <thead>\n",
       "    <tr style=\"text-align: right;\">\n",
       "      <th></th>\n",
       "      <th>disease</th>\n",
       "      <th>count_images</th>\n",
       "    </tr>\n",
       "  </thead>\n",
       "  <tbody>\n",
       "    <tr>\n",
       "      <th>0</th>\n",
       "      <td>actinic keratosis</td>\n",
       "      <td>16</td>\n",
       "    </tr>\n",
       "    <tr>\n",
       "      <th>1</th>\n",
       "      <td>basal cell carcinoma</td>\n",
       "      <td>16</td>\n",
       "    </tr>\n",
       "    <tr>\n",
       "      <th>2</th>\n",
       "      <td>dermatofibroma</td>\n",
       "      <td>16</td>\n",
       "    </tr>\n",
       "    <tr>\n",
       "      <th>3</th>\n",
       "      <td>melanoma</td>\n",
       "      <td>16</td>\n",
       "    </tr>\n",
       "    <tr>\n",
       "      <th>4</th>\n",
       "      <td>nevus</td>\n",
       "      <td>16</td>\n",
       "    </tr>\n",
       "    <tr>\n",
       "      <th>5</th>\n",
       "      <td>pigmented benign keratosis</td>\n",
       "      <td>16</td>\n",
       "    </tr>\n",
       "    <tr>\n",
       "      <th>6</th>\n",
       "      <td>seborrheic keratosis</td>\n",
       "      <td>3</td>\n",
       "    </tr>\n",
       "    <tr>\n",
       "      <th>7</th>\n",
       "      <td>squamous cell carcinoma</td>\n",
       "      <td>16</td>\n",
       "    </tr>\n",
       "    <tr>\n",
       "      <th>8</th>\n",
       "      <td>vascular lesion</td>\n",
       "      <td>3</td>\n",
       "    </tr>\n",
       "  </tbody>\n",
       "</table>\n",
       "</div>"
      ],
      "text/plain": [
       "                      disease  count_images\n",
       "0           actinic keratosis            16\n",
       "1        basal cell carcinoma            16\n",
       "2              dermatofibroma            16\n",
       "3                    melanoma            16\n",
       "4                       nevus            16\n",
       "5  pigmented benign keratosis            16\n",
       "6        seborrheic keratosis             3\n",
       "7     squamous cell carcinoma            16\n",
       "8             vascular lesion             3"
      ]
     },
     "execution_count": 85,
     "metadata": {},
     "output_type": "execute_result"
    }
   ],
   "source": [
    "results2 = []\n",
    "for folder in  os.listdir(testpath + '\\\\') : \n",
    "    dies_name_count = {}\n",
    "    files = gb.glob(pathname= str( testpath +'\\\\' + folder + '/*.jpg'))\n",
    "    dies_name_count['disease']=folder\n",
    "    dies_name_count['count_images']=len(files)\n",
    "    results2.append(dies_name_count)\n",
    "    print(f'For training data , found {len(files)} in folder {folder}')\n",
    "pd.DataFrame(results2)"
   ]
  },
  {
   "cell_type": "code",
   "execution_count": 86,
   "id": "5c3bad29",
   "metadata": {},
   "outputs": [],
   "source": [
    "code = {'actinic keratosis':0 ,'basal cell carcinoma':1,'dermatofibroma':2,'melanoma':3,'nevus':4,'pigmented benign keratosis':5,'seborrheic keratosis':6,'squamous cell carcinoma':7,'vascular lesion':8}\n",
    "def getcode(n) : \n",
    "    for x , y in code.items() : \n",
    "        if n == y : \n",
    "            return x    "
   ]
  },
  {
   "cell_type": "code",
   "execution_count": null,
   "id": "b9e7b0a0",
   "metadata": {},
   "outputs": [],
   "source": [
    "size = []\n",
    "for folder in  os.listdir(trainpath +'\\\\') : \n",
    "    files = gb.glob(pathname= str( trainpath +'\\\\' + folder + '/*.jpg'))\n",
    "    for file in files: \n",
    "        image = plt.imread(file)\n",
    "        size.append(image.shape)\n",
    "pd.Series(size).value_counts()"
   ]
  },
  {
   "cell_type": "code",
   "execution_count": null,
   "id": "f6e025ff",
   "metadata": {},
   "outputs": [],
   "source": [
    "size = []\n",
    "for folder in  os.listdir(testpath +'\\\\') : \n",
    "    files = gb.glob(pathname= str( testpath +'\\\\' + folder + '/*.jpg'))\n",
    "    for file in files: \n",
    "        image = plt.imread(file)\n",
    "        size.append(image.shape)\n",
    "pd.Series(size).value_counts()"
   ]
  },
  {
   "cell_type": "code",
   "execution_count": null,
   "id": "695ec74e",
   "metadata": {},
   "outputs": [],
   "source": [
    "s = 300"
   ]
  },
  {
   "cell_type": "code",
   "execution_count": null,
   "id": "e062d830",
   "metadata": {},
   "outputs": [],
   "source": [
    "X_train = []\n",
    "y_train = []\n",
    "for folder in  os.listdir(trainpath +'\\\\') : \n",
    "    files = gb.glob(pathname= str( trainpath +'\\\\' + folder + '/*.jpg'))\n",
    "    for file in files: \n",
    "        image = cv2.imread(file)\n",
    "        image_array = cv2.resize(image , (s,s))\n",
    "        X_train.append(list(image_array))\n",
    "        y_train.append(code[folder])"
   ]
  },
  {
   "cell_type": "code",
   "execution_count": null,
   "id": "9895c26a",
   "metadata": {},
   "outputs": [],
   "source": [
    "print(f'we have {len(X_train)} items in X_train')"
   ]
  },
  {
   "cell_type": "code",
   "execution_count": null,
   "id": "b70c279d",
   "metadata": {},
   "outputs": [],
   "source": [
    "plt.figure(figsize=(20,20))\n",
    "for n , i in enumerate(list(np.random.randint(0,len(X_train),36))) : \n",
    "    plt.subplot(6,6,n+1)\n",
    "    plt.imshow(X_train[i])   \n",
    "    plt.axis('off')\n",
    "    plt.title(getcode(y_train[i]))"
   ]
  },
  {
   "cell_type": "code",
   "execution_count": null,
   "id": "866c169d",
   "metadata": {},
   "outputs": [],
   "source": [
    "X_test = []\n",
    "y_test = []\n",
    "for folder in  os.listdir(testpath +'\\\\') : \n",
    "    files = gb.glob(pathname= str(testpath + '\\\\' + folder + '/*.jpg'))\n",
    "    for file in files: \n",
    "        image = cv2.imread(file)\n",
    "        image_array = cv2.resize(image , (s,s))\n",
    "        X_test.append(list(image_array))\n",
    "        y_test.append(code[folder])"
   ]
  },
  {
   "cell_type": "code",
   "execution_count": null,
   "id": "345ecafa",
   "metadata": {},
   "outputs": [],
   "source": [
    "print(f'we have {len(X_test)} items in X_test')"
   ]
  },
  {
   "cell_type": "code",
   "execution_count": null,
   "id": "03e5c6bd",
   "metadata": {},
   "outputs": [],
   "source": [
    "plt.figure(figsize=(20,20))\n",
    "for n , i in enumerate(list(np.random.randint(0,len(X_test),36))) : \n",
    "    plt.subplot(6,6,n+1)\n",
    "    plt.imshow(X_test[i])    \n",
    "    plt.axis('off')\n",
    "    plt.title(getcode(y_test[i]))"
   ]
  },
  {
   "cell_type": "code",
   "execution_count": null,
   "id": "ff745e81",
   "metadata": {},
   "outputs": [],
   "source": [
    "X_train = np.array(X_train)\n",
    "X_test = np.array(X_test)\n",
    "y_train = np.array(y_train)\n",
    "y_test = np.array(y_test)\n",
    "print(f'X_train shape  is {X_train.shape}')\n",
    "print(f'X_test shape  is {X_test.shape}')\n",
    "print(f'y_train shape  is {y_train.shape}')\n",
    "print(f'y_test shape  is {y_test.shape}')"
   ]
  },
  {
   "cell_type": "code",
   "execution_count": null,
   "id": "c9327339",
   "metadata": {},
   "outputs": [],
   "source": [
    "def unet():\n",
    "\n",
    "  # First block Going down\n",
    "  d1_2 = Conv2D(16, (3, 3), activation='relu', padding='same',input_shape=(s,s,3))\n",
    "  d1_3 = Conv2D(16, (3, 3), activation='relu', padding='same')(d1_2)\n",
    "\n",
    "  # Second block Going down\n",
    "  d2_1 = MaxPooling2D()(d1_3)\n",
    "  d2_2 = Conv2D(32, (3, 3), activation='relu', padding='same')(d2_1)\n",
    "  d2_3 = Conv2D(32, (3, 3), activation='relu', padding='same')(d2_2)\n",
    "\n",
    "  # Third block Going down\n",
    "  d3_1 = MaxPooling2D()(d2_3)\n",
    "  d3_2 = Conv2D(64, (3, 3), activation='relu', padding='same')(d3_1)\n",
    "  d3_3 = Conv2D(64, (3, 3), activation='relu', padding='same')(d3_2)\n",
    "\n",
    "  # Fourth block Going down\n",
    "  d4_1 = MaxPooling2D()(d3_3)\n",
    "  d4_2 = Conv2D(128, (3, 3), activation='relu', padding='same')(d4_1)\n",
    "  d4_3 = Conv2D(128, (3, 3), activation='relu', padding='same')(d4_2)\n",
    "\n",
    "  # Fifth block \n",
    "  d5_1 = MaxPooling2D()(d4_3)\n",
    "  d5_2 = Conv2D(256, (3, 3), activation='relu', padding='same')(d5_1)\n",
    "  d5_3 = Conv2D(256, (3, 3), activation='relu', padding='same')(d5_2)\n",
    "\n",
    "  # Fourth block going up, concatenated with Fourth block going down\n",
    "  up4_0 = UpSampling2D((2, 2))(d5_3)\n",
    "  up4_1 = tf.keras.layers.concatenate([d4_3, up4_0])\n",
    "  up4_2 = Conv2D(128, (3, 3), activation='relu', padding='same')(up4_1)\n",
    "  up4_3 = Conv2D(128, (3, 3), activation='relu', padding='same')(up4_2)\n",
    "\n",
    "  # Third block going up, concatenated with Third block going down\n",
    "  up3_0 = UpSampling2D((2, 2))(up4_3)\n",
    "  up3_1 = tf.keras.layers.concatenate([d3_3, up3_0])\n",
    "  up3_2 = Conv2D(64, (3, 3), activation='relu', padding='same')(up3_1)\n",
    "  up3_3 = Conv2D(64, (3, 3), activation='relu', padding='same')(up3_2)\n",
    "\n",
    "  # Second block going up, concatenated with Second block going down\n",
    "  up2_0 = UpSampling2D((2, 2))(up3_3)\n",
    "  up2_1 = tf.keras.layers.concatenate([d2_3, up2_0])\n",
    "  up2_2 = Conv2D(32, (3, 3), activation='relu', padding='same')(up2_1)\n",
    "  up2_3 = Conv2D(32, (3, 3), activation='relu', padding='same')(up2_2)\n",
    "\n",
    "  # First block going up, concatenated with First block going down\n",
    "  up1_0 = UpSampling2D((2, 2))(up2_3)\n",
    "  up1_1 = tf.keras.layers.concatenate([d1_3, up1_0])\n",
    "  up1_2 = Conv2D(16, (3, 3), activation='relu', padding='same')(up1_1)\n",
    "  up1_3 = Conv2D(16, (3, 3), activation='relu', padding='same')(up1_2)\n",
    "\n",
    "  # Output\n",
    "  out = Conv2D(1, (1, 1), activation='sigmoid', padding='same')(up1_3)\n",
    "\n",
    "  return out"
   ]
  },
  {
   "cell_type": "code",
   "execution_count": null,
   "id": "0f80b801",
   "metadata": {},
   "outputs": [],
   "source": [
    "unet = model(input_shape = (s,s,3), unet())\n",
    "unet.compile(loss='mean_squared_error', optimizer = optimizers.rmsprop_v2.RMSprop())\n",
    "unet_train = unet.fit(X_train, y_train, batch_size=batch_size,epochs=epochs,verbose=1,validation_data=(X_test, y_test))"
   ]
  },
  {
   "cell_type": "code",
   "execution_count": null,
   "id": "73b35141",
   "metadata": {},
   "outputs": [],
   "source": [
    "KerasModel = keras.models.Sequential([\n",
    "        keras.layers.Conv2D(200,kernel_size=(3,3),activation='relu',input_shape=(s,s,3)),\n",
    "        keras.layers.Conv2D(150,kernel_size=(3,3),activation='relu'),\n",
    "        keras.layers.MaxPool2D(4,4),\n",
    "        keras.layers.Conv2D(120,kernel_size=(3,3),activation='relu'),    \n",
    "        keras.layers.Conv2D(80,kernel_size=(3,3),activation='relu'),    \n",
    "        keras.layers.Conv2D(50,kernel_size=(3,3),activation='relu'),\n",
    "        keras.layers.MaxPool2D(4,4),\n",
    "        keras.layers.Flatten() ,    \n",
    "        keras.layers.Dense(120,activation='relu') ,    \n",
    "        keras.layers.Dense(100,activation='relu') ,    \n",
    "        keras.layers.Dense(50,activation='relu') ,        \n",
    "        keras.layers.Dropout(rate=0.5) ,            \n",
    "        keras.layers.Dense(6,activation='softmax') ,    \n",
    "        ])"
   ]
  },
  {
   "cell_type": "code",
   "execution_count": null,
   "id": "b616b56a",
   "metadata": {},
   "outputs": [],
   "source": [
    "KerasModel.compile(optimizer ='adam',loss='sparse_categorical_crossentropy',metrics=['accuracy'])"
   ]
  },
  {
   "cell_type": "code",
   "execution_count": null,
   "id": "1bc8a140",
   "metadata": {},
   "outputs": [],
   "source": [
    "print('Model Details are : ')\n",
    "print(KerasModel.summary())"
   ]
  },
  {
   "cell_type": "code",
   "execution_count": null,
   "id": "d7036b52",
   "metadata": {},
   "outputs": [],
   "source": [
    "epochs = 50\n",
    "ThisModel = KerasModel.fit(X_train, y_train, epochs=epochs,batch_size=64,verbose=1)"
   ]
  },
  {
   "cell_type": "code",
   "execution_count": null,
   "id": "80b4b016",
   "metadata": {},
   "outputs": [],
   "source": [
    "ModelLoss, ModelAccuracy = KerasModel.evaluate(X_test, y_test)\n",
    "\n",
    "print('Test Loss is {}'.format(ModelLoss))\n",
    "print('Test Accuracy is {}'.format(ModelAccuracy ))"
   ]
  },
  {
   "cell_type": "code",
   "execution_count": null,
   "id": "4256f6a3",
   "metadata": {},
   "outputs": [],
   "source": []
  },
  {
   "cell_type": "code",
   "execution_count": null,
   "id": "ef0b59eb",
   "metadata": {},
   "outputs": [],
   "source": []
  }
 ],
 "metadata": {
  "kernelspec": {
   "display_name": "Python 3 (ipykernel)",
   "language": "python",
   "name": "python3"
  },
  "language_info": {
   "codemirror_mode": {
    "name": "ipython",
    "version": 3
   },
   "file_extension": ".py",
   "mimetype": "text/x-python",
   "name": "python",
   "nbconvert_exporter": "python",
   "pygments_lexer": "ipython3",
   "version": "3.9.12"
  }
 },
 "nbformat": 4,
 "nbformat_minor": 5
}
